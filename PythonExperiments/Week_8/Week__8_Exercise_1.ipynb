{
  "cells": [
    {
      "cell_type": "code",
      "execution_count": null,
      "id": "e5e19921-75f2-49ae-9614-06739c49b04c",
      "metadata": {
        "id": "e5e19921-75f2-49ae-9614-06739c49b04c"
      },
      "outputs": [],
      "source": [
        "# Q1. Import the pandas library\n"
      ]
    },
    {
      "cell_type": "code",
      "execution_count": null,
      "id": "59a98146-e8f4-4213-b4f9-c821f6d83033",
      "metadata": {
        "id": "59a98146-e8f4-4213-b4f9-c821f6d83033"
      },
      "outputs": [],
      "source": [
        "# Q2. Read the dataset and assign it to 'chipo'"
      ]
    },
    {
      "cell_type": "code",
      "execution_count": null,
      "id": "a63946ad-7750-403f-aad6-e9aca3f69cf7",
      "metadata": {
        "id": "a63946ad-7750-403f-aad6-e9aca3f69cf7"
      },
      "outputs": [],
      "source": [
        "# Q3. Display the first 10 rows"
      ]
    },
    {
      "cell_type": "code",
      "execution_count": null,
      "id": "7083fb59-6051-4fa9-8f31-0065aeeacf24",
      "metadata": {
        "id": "7083fb59-6051-4fa9-8f31-0065aeeacf24"
      },
      "outputs": [],
      "source": [
        "# Q4. How many rows and columns are there?"
      ]
    },
    {
      "cell_type": "code",
      "execution_count": null,
      "id": "42cbf7ae-8a62-42fd-aeda-904a672716d6",
      "metadata": {
        "id": "42cbf7ae-8a62-42fd-aeda-904a672716d6"
      },
      "outputs": [],
      "source": [
        "# Q5. Print all column names"
      ]
    },
    {
      "cell_type": "code",
      "execution_count": null,
      "id": "a6b0a2be-dcf5-4fc2-b2ed-f870cbad33a9",
      "metadata": {
        "id": "a6b0a2be-dcf5-4fc2-b2ed-f870cbad33a9"
      },
      "outputs": [],
      "source": [
        "# Q6. Display how the dataset is indexed using .index"
      ]
    },
    {
      "cell_type": "code",
      "execution_count": null,
      "id": "19976dc3-33d7-4d5e-a5b6-bde253ce16a3",
      "metadata": {
        "id": "19976dc3-33d7-4d5e-a5b6-bde253ce16a3"
      },
      "outputs": [],
      "source": [
        "# Q7.Check the data types of each column using .dtypes."
      ]
    },
    {
      "cell_type": "code",
      "execution_count": null,
      "id": "ad31d620-4e2a-4a06-bd2f-7a1404efd463",
      "metadata": {
        "id": "ad31d620-4e2a-4a06-bd2f-7a1404efd463"
      },
      "outputs": [],
      "source": [
        "# Q7.Check the data types of each column using .dtypes."
      ]
    },
    {
      "cell_type": "code",
      "execution_count": null,
      "id": "0e80f42a-438f-4c27-a971-38f14a2e765d",
      "metadata": {
        "id": "0e80f42a-438f-4c27-a971-38f14a2e765d"
      },
      "outputs": [],
      "source": [
        "# Q8. Find the most ordered item based on the `item_name` column."
      ]
    },
    {
      "cell_type": "code",
      "execution_count": null,
      "id": "589ed741-4eb3-461d-b269-64ea66a07e83",
      "metadata": {
        "id": "589ed741-4eb3-461d-b269-64ea66a07e83"
      },
      "outputs": [],
      "source": [
        "# Q9. For the most ordered item, calculate the total quantity ordered."
      ]
    },
    {
      "cell_type": "code",
      "execution_count": null,
      "id": "55c314cb-38d4-4f53-900a-f46a0074f893",
      "metadata": {
        "id": "55c314cb-38d4-4f53-900a-f46a0074f893"
      },
      "outputs": [],
      "source": [
        "# Q10. Identify the most frequent entry in the `choice_description` column."
      ]
    },
    {
      "cell_type": "code",
      "execution_count": null,
      "id": "03c61188-1257-4ff6-94dd-5b3f6974dafa",
      "metadata": {
        "id": "03c61188-1257-4ff6-94dd-5b3f6974dafa"
      },
      "outputs": [],
      "source": [
        "# Q11. Calculate the total number of items ordered by summing the `quantity` column."
      ]
    },
    {
      "cell_type": "code",
      "execution_count": null,
      "id": "92adc2b1-db8c-43f5-b882-900de487a7be",
      "metadata": {
        "id": "92adc2b1-db8c-43f5-b882-900de487a7be"
      },
      "outputs": [],
      "source": [
        "# Q12. Check the current data type of the `item_price` column.\n"
      ]
    },
    {
      "cell_type": "code",
      "execution_count": null,
      "id": "9fb8799f-1788-4139-8d78-f4646fb7717e",
      "metadata": {
        "id": "9fb8799f-1788-4139-8d78-f4646fb7717e"
      },
      "outputs": [],
      "source": [
        "# Q13. Convert the `item_price` column to float by:\n",
        "#      a. Removing the dollar sign using a lambda function\n",
        "#      b. Applying the conversion to the column"
      ]
    },
    {
      "cell_type": "code",
      "execution_count": null,
      "id": "534436b3-c311-4d05-841a-8ecf34a0f186",
      "metadata": {
        "id": "534436b3-c311-4d05-841a-8ecf34a0f186"
      },
      "outputs": [],
      "source": [
        "# Q14. Confirm the data type change was successful."
      ]
    },
    {
      "cell_type": "code",
      "execution_count": null,
      "id": "bccc9f30-efa6-4d62-9bc0-6ee4d94ea678",
      "metadata": {
        "id": "bccc9f30-efa6-4d62-9bc0-6ee4d94ea678"
      },
      "outputs": [],
      "source": [
        "# Q15. Calculate the total revenue by multiplying `quantity` and `item_price`, then summing the results.\n"
      ]
    },
    {
      "cell_type": "code",
      "execution_count": null,
      "id": "3175c1a8-1630-4c6b-be49-09b65ebd61d0",
      "metadata": {
        "id": "3175c1a8-1630-4c6b-be49-09b65ebd61d0"
      },
      "outputs": [],
      "source": [
        "# Q16. Determine the number of unique orders using the `order_id` column.\n"
      ]
    },
    {
      "cell_type": "code",
      "execution_count": null,
      "id": "b2d0cbad-9c63-416c-9914-3bbbaa82f303",
      "metadata": {
        "id": "b2d0cbad-9c63-416c-9914-3bbbaa82f303"
      },
      "outputs": [],
      "source": [
        "# Q17. Calculate the average revenue per order.\n"
      ]
    },
    {
      "cell_type": "code",
      "execution_count": null,
      "id": "5cc50b3b-5249-4407-bdfe-68979fdce61d",
      "metadata": {
        "id": "5cc50b3b-5249-4407-bdfe-68979fdce61d"
      },
      "outputs": [],
      "source": [
        "# Q18. Find out how many different items are sold (unique values in `item_name`).\n"
      ]
    },
    {
      "cell_type": "code",
      "execution_count": null,
      "id": "1872c79e-2852-4156-8a09-0002ec2feafd",
      "metadata": {
        "id": "1872c79e-2852-4156-8a09-0002ec2feafd"
      },
      "outputs": [],
      "source": [
        "# Q19. List the top 5 items by total quantity sold.\n"
      ]
    },
    {
      "cell_type": "code",
      "execution_count": null,
      "id": "3d3b07c9-95b0-4d7a-8b2a-c95a84b60b52",
      "metadata": {
        "id": "3d3b07c9-95b0-4d7a-8b2a-c95a84b60b52"
      },
      "outputs": [],
      "source": [
        "# Q20. Count the number of unique values in the `choice_description` column.\n"
      ]
    },
    {
      "cell_type": "code",
      "execution_count": null,
      "id": "ecf91927-a799-4fe3-8a29-4b1b82baf707",
      "metadata": {
        "id": "ecf91927-a799-4fe3-8a29-4b1b82baf707"
      },
      "outputs": [],
      "source": [
        "# Q21. Identify the order with the highest total bill amount."
      ]
    },
    {
      "cell_type": "code",
      "execution_count": null,
      "id": "7d8c0470-7b30-4d47-b401-16101fb82424",
      "metadata": {
        "id": "7d8c0470-7b30-4d47-b401-16101fb82424"
      },
      "outputs": [],
      "source": [
        "# Q22. Find all items that have inconsistent pricing (same `item_name` but different `item_price` values).\n"
      ]
    },
    {
      "cell_type": "code",
      "execution_count": null,
      "id": "b1f25228-e8ac-4aa3-a77c-c8945a3d3ce6",
      "metadata": {
        "id": "b1f25228-e8ac-4aa3-a77c-c8945a3d3ce6"
      },
      "outputs": [],
      "source": [
        "# Q23. List orders where any single item was ordered in a quantity greater than 5.\n"
      ]
    },
    {
      "cell_type": "code",
      "execution_count": null,
      "id": "e3dba641-5efb-4351-8eeb-399c2dc003aa",
      "metadata": {
        "id": "e3dba641-5efb-4351-8eeb-399c2dc003aa"
      },
      "outputs": [],
      "source": [
        "# Q24. Calculate the average price of an item."
      ]
    },
    {
      "cell_type": "code",
      "execution_count": null,
      "id": "e0979445-2286-42cd-b4e0-4e4485981f1b",
      "metadata": {
        "id": "e0979445-2286-42cd-b4e0-4e4485981f1b"
      },
      "outputs": [],
      "source": [
        "# Q25. List all unique item prices and show the items associated with each price.\n"
      ]
    },
    {
      "cell_type": "code",
      "execution_count": null,
      "id": "1e514190-85e7-4229-bb02-bd8779ed67b7",
      "metadata": {
        "id": "1e514190-85e7-4229-bb02-bd8779ed67b7"
      },
      "outputs": [],
      "source": [
        "# Q26. Determine which item was ordered in the largest quantity in a single order.\n"
      ]
    },
    {
      "cell_type": "code",
      "execution_count": null,
      "id": "56b8c7bd-e5a4-4f2f-98e6-8ef34984f594",
      "metadata": {
        "id": "56b8c7bd-e5a4-4f2f-98e6-8ef34984f594"
      },
      "outputs": [],
      "source": [
        "# Q27. Count how many orders included more than 3 items total.\n"
      ]
    },
    {
      "cell_type": "code",
      "execution_count": null,
      "id": "a30ee2cb-263e-480c-88e2-e2c16c70d1ac",
      "metadata": {
        "id": "a30ee2cb-263e-480c-88e2-e2c16c70d1ac"
      },
      "outputs": [],
      "source": [
        "# Q28. Display all orders that included *Canned Soda*.\n"
      ]
    },
    {
      "cell_type": "code",
      "execution_count": null,
      "id": "94b3904e-46c1-409c-855a-aa02521b0067",
      "metadata": {
        "id": "94b3904e-46c1-409c-855a-aa02521b0067"
      },
      "outputs": [],
      "source": [
        "# Q29. Show the total quantity sold for each item in descending order.\n"
      ]
    },
    {
      "cell_type": "code",
      "execution_count": null,
      "id": "79426ec5-613d-48d2-ac9b-3b5fd46eabd9",
      "metadata": {
        "id": "79426ec5-613d-48d2-ac9b-3b5fd46eabd9"
      },
      "outputs": [],
      "source": [
        "# Q30. Identify the top 3 most frequent item combinations ordered together."
      ]
    }
  ],
  "metadata": {
    "kernelspec": {
      "display_name": "Python 3 (ipykernel)",
      "language": "python",
      "name": "python3"
    },
    "language_info": {
      "codemirror_mode": {
        "name": "ipython",
        "version": 3
      },
      "file_extension": ".py",
      "mimetype": "text/x-python",
      "name": "python",
      "nbconvert_exporter": "python",
      "pygments_lexer": "ipython3",
      "version": "3.12.4"
    },
    "colab": {
      "provenance": []
    }
  },
  "nbformat": 4,
  "nbformat_minor": 5
}